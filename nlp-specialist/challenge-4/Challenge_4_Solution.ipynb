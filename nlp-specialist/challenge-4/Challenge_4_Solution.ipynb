{
  "nbformat": 4,
  "nbformat_minor": 0,
  "metadata": {
    "colab": {
      "provenance": [],
      "authorship_tag": "ABX9TyMlTwN9lSthI8c85tBchcWd",
      "include_colab_link": true
    },
    "kernelspec": {
      "name": "python3",
      "display_name": "Python 3"
    },
    "language_info": {
      "name": "python"
    }
  },
  "cells": [
    {
      "cell_type": "markdown",
      "metadata": {
        "id": "view-in-github",
        "colab_type": "text"
      },
      "source": [
        "<a href=\"https://colab.research.google.com/github/NafisaKhan/Coding-Challenges/blob/NafisaKhan-solution/nlp-specialist/challenge-4/Challenge_4_Solution.ipynb\" target=\"_parent\"><img src=\"https://colab.research.google.com/assets/colab-badge.svg\" alt=\"Open In Colab\"/></a>"
      ]
    },
    {
      "cell_type": "code",
      "execution_count": 7,
      "metadata": {
        "id": "SnZZmeAT9jI3",
        "colab": {
          "base_uri": "https://localhost:8080/"
        },
        "outputId": "1bd338fa-80fc-45ea-91b9-23cfc271c642"
      },
      "outputs": [
        {
          "output_type": "stream",
          "name": "stdout",
          "text": [
            "Query: What time does the sun rise?\n",
            "True intent: sunrise_time\n",
            "Predicted intent: sunrise_time, Confidence: 0.6\n",
            "Top 3 intents: [('sunrise_time', 0.6), ('time_query', 0.12), ('play_music', 0.09)]\n",
            "Query: Play some music.\n",
            "True intent: play_music\n",
            "Predicted intent: play_music, Confidence: 0.92\n",
            "Top 3 intents: [('play_music', 0.92), ('find_recipe', 0.05), ('sports_update', 0.02)]\n",
            "Query: How to get to the nearest restaurant?\n",
            "True intent: location_search\n",
            "Predicted intent: location_search, Confidence: 0.67\n",
            "Top 3 intents: [('location_search', 0.67), ('apply_passport', 0.04), ('language_translation', 0.04)]\n",
            "Query: রেস্টুরেন্টে একটি টেবিল বুক করো।\n",
            "True intent: book_table\n",
            "Predicted intent: book_table, Confidence: 0.63\n",
            "Top 3 intents: [('book_table', 0.63), ('tell_joke', 0.06), ('shopping_list', 0.06)]\n",
            "Query: আমি কিভাবে আমার অ্যাকাউন্ট মুছতে পারি?\n",
            "True intent: account_deletion\n",
            "Predicted intent: account_deletion, Confidence: 0.57\n",
            "Top 3 intents: [('account_deletion', 0.57), ('service_search', 0.11), ('shopping_list', 0.09)]\n"
          ]
        }
      ],
      "source": [
        "#import\n",
        "import pandas as pd\n",
        "import numpy as np\n",
        "from sklearn.ensemble import RandomForestClassifier\n",
        "from sklearn.feature_extraction.text import TfidfVectorizer\n",
        "from sklearn.model_selection import train_test_split\n",
        "\n",
        "#Loading data\n",
        "url = 'https://raw.githubusercontent.com/NafisaKhan/Coding-Challenges/NafisaKhan-solution/nlp-specialist/challenge-4/product_review.json'\n",
        "data=pd.read_json(url)\n",
        "texts=data['query']\n",
        "labels=data['intent']\n",
        "\n",
        "#TF-IDF vectorization\n",
        "vectorizer=TfidfVectorizer(max_features=5000)\n",
        "X=vectorizer.fit_transform(texts)\n",
        "y=labels\n",
        "\n",
        "#Split the data\n",
        "X_train, X_test, y_train, y_test=train_test_split(X, y, test_size=0.2, random_state=50)\n",
        "\n",
        "#Train Random Forest\n",
        "model=RandomForestClassifier(n_estimators=100)\n",
        "model.fit(X_train, y_train)\n",
        "\n",
        "#Prediction function\n",
        "def predict_intent(text):\n",
        "    text_vec=vectorizer.transform([text])\n",
        "    probs=model.predict_proba(text_vec)\n",
        "    pred_label=model.predict(text_vec)[0]\n",
        "\n",
        "    # Confidence score\n",
        "    confidence=max(probs[0])\n",
        "\n",
        "    # Top 3 most likely intents\n",
        "    prob_array=probs[0]\n",
        "    top_indices=np.argsort(prob_array)[::-1][:3]\n",
        "    top_3=[(model.classes_[i], prob_array[i]) for i in top_indices]\n",
        "    return pred_label, confidence, top_3\n",
        "\n",
        "#Seed for reproducibility\n",
        "np.random.seed(42)\n",
        "\n",
        "#Sample 5 random data\n",
        "sample_indices=np.random.choice(data.index, size=5, replace=False)\n",
        "\n",
        "#Extract sample data\n",
        "sample_texts=data.loc[sample_indices, 'query']\n",
        "sample_labels=data.loc[sample_indices, 'intent']\n",
        "\n",
        "#Test the model on the sample data\n",
        "for text, true_label in zip(sample_texts, sample_labels):\n",
        "    pred_label, confidence, top_3=predict_intent(text)\n",
        "    print(f\"Query: {text}\")\n",
        "    print(f\"True intent: {true_label}\")\n",
        "    print(f\"Predicted intent: {pred_label}, Confidence: {confidence}\")\n",
        "    print(f\"Top 3 intents: {top_3}\")"
      ]
    }
  ]
}