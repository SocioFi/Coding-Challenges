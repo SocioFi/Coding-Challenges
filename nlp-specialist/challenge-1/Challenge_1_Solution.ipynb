{
  "nbformat": 4,
  "nbformat_minor": 0,
  "metadata": {
    "colab": {
      "provenance": [],
      "authorship_tag": "ABX9TyPHq8ltNi69gJUJhUFvyjII",
      "include_colab_link": true
    },
    "kernelspec": {
      "name": "python3",
      "display_name": "Python 3"
    },
    "language_info": {
      "name": "python"
    }
  },
  "cells": [
    {
      "cell_type": "markdown",
      "metadata": {
        "id": "view-in-github",
        "colab_type": "text"
      },
      "source": [
        "<a href=\"https://colab.research.google.com/github/NafisaKhan/Coding-Challenges/blob/NafisaKhan-solution/nlp-specialist/challenge-1/Challenge_1_Solution.ipynb\" target=\"_parent\"><img src=\"https://colab.research.google.com/assets/colab-badge.svg\" alt=\"Open In Colab\"/></a>"
      ]
    },
    {
      "cell_type": "code",
      "source": [
        "import re\n",
        "#Function For NER System\n",
        "def ner(text):\n",
        "    #Defining the patterns (BD phone,Alphanumeric account,Phone service types)\n",
        "    patterns={'phone_numbers': r'\\b(01[3-9]\\d{8})\\b',\n",
        "              'account_numbers': r'\\b[A-Za-z0-9]{5,12}\\b',\n",
        "              'service_types': r'\\b(prepaid|postpaid|internet)\\b'\n",
        "              }\n",
        "\n",
        "    #Finding entities for each pattern\n",
        "    extract_entities={}\n",
        "    for entity, pattern in patterns.items():\n",
        "        matches=[(match.group(), match.start()) for match in re.finditer(pattern, text, re.IGNORECASE)]\n",
        "        extract_entities[entity]=matches\n",
        "    return extract_entities\n",
        "\n",
        "def test_ner():\n",
        "    #User input\n",
        "    s_input=input(\"Enter a string of text for NER: \")\n",
        "    output=ner(s_input)\n",
        "    print(\"\\nOutput:\")\n",
        "    print(output)\n",
        "\n",
        "test_ner()\n",
        "\n",
        "\n",
        "#demo inputs\n",
        "#text1 = \"আমার ফোন নাম্বার 01712345678 এবং আমার account number হলো ACC123456\"\n",
        "#text2 = \"I want to switch my prepaid connection to postpaid. My phone number is 01898765432.\"\n",
        "#text3 = \"Amr internet package ta upgrade korte chai. Account number: XYZ789012\""
      ],
      "metadata": {
        "colab": {
          "base_uri": "https://localhost:8080/"
        },
        "id": "848s9MdBY6WQ",
        "outputId": "d5b34904-b42d-422e-e396-f3024b850052"
      },
      "execution_count": 11,
      "outputs": [
        {
          "output_type": "stream",
          "name": "stdout",
          "text": [
            "Enter a string of text for NER: আমার ফোন নাম্বার 01712345678 এবং আমার account number হলো ACC123456\n",
            "\n",
            "Output:\n",
            "{'phone_numbers': [('01712345678', 17)], 'account_numbers': [('01712345678', 17), ('account', 38), ('number', 46), ('ACC123456', 57)], 'service_types': []}\n"
          ]
        }
      ]
    }
  ]
}