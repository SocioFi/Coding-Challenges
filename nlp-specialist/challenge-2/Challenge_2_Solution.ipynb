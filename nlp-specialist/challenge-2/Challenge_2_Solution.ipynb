{
  "nbformat": 4,
  "nbformat_minor": 0,
  "metadata": {
    "colab": {
      "provenance": [],
      "authorship_tag": "ABX9TyMhFos/HGn5L3igPXQ6cQV0",
      "include_colab_link": true
    },
    "kernelspec": {
      "name": "python3",
      "display_name": "Python 3"
    },
    "language_info": {
      "name": "python"
    }
  },
  "cells": [
    {
      "cell_type": "markdown",
      "metadata": {
        "id": "view-in-github",
        "colab_type": "text"
      },
      "source": [
        "<a href=\"https://colab.research.google.com/github/NafisaKhan/Coding-Challenges/blob/NafisaKhan-solution/nlp-specialist/challenge-2/Challenge_2_Solution.ipynb\" target=\"_parent\"><img src=\"https://colab.research.google.com/assets/colab-badge.svg\" alt=\"Open In Colab\"/></a>"
      ]
    },
    {
      "cell_type": "code",
      "source": [
        "#First install these libraries if not installed previously\n",
        "!pip install pandas numpy seaborn matplotlib scikit-learn"
      ],
      "metadata": {
        "colab": {
          "base_uri": "https://localhost:8080/"
        },
        "id": "svcw2pK9E3fR",
        "outputId": "594d525e-1899-4f21-d145-df9baa6f8ce4"
      },
      "execution_count": null,
      "outputs": [
        {
          "output_type": "stream",
          "name": "stdout",
          "text": [
            "Requirement already satisfied: pandas in /usr/local/lib/python3.10/dist-packages (2.1.4)\n",
            "Requirement already satisfied: numpy in /usr/local/lib/python3.10/dist-packages (1.26.4)\n",
            "Requirement already satisfied: seaborn in /usr/local/lib/python3.10/dist-packages (0.13.1)\n",
            "Requirement already satisfied: matplotlib in /usr/local/lib/python3.10/dist-packages (3.7.1)\n",
            "Requirement already satisfied: scikit-learn in /usr/local/lib/python3.10/dist-packages (1.3.2)\n",
            "Requirement already satisfied: python-dateutil>=2.8.2 in /usr/local/lib/python3.10/dist-packages (from pandas) (2.8.2)\n",
            "Requirement already satisfied: pytz>=2020.1 in /usr/local/lib/python3.10/dist-packages (from pandas) (2024.1)\n",
            "Requirement already satisfied: tzdata>=2022.1 in /usr/local/lib/python3.10/dist-packages (from pandas) (2024.1)\n",
            "Requirement already satisfied: contourpy>=1.0.1 in /usr/local/lib/python3.10/dist-packages (from matplotlib) (1.3.0)\n",
            "Requirement already satisfied: cycler>=0.10 in /usr/local/lib/python3.10/dist-packages (from matplotlib) (0.12.1)\n",
            "Requirement already satisfied: fonttools>=4.22.0 in /usr/local/lib/python3.10/dist-packages (from matplotlib) (4.53.1)\n",
            "Requirement already satisfied: kiwisolver>=1.0.1 in /usr/local/lib/python3.10/dist-packages (from matplotlib) (1.4.5)\n",
            "Requirement already satisfied: packaging>=20.0 in /usr/local/lib/python3.10/dist-packages (from matplotlib) (24.1)\n",
            "Requirement already satisfied: pillow>=6.2.0 in /usr/local/lib/python3.10/dist-packages (from matplotlib) (9.4.0)\n",
            "Requirement already satisfied: pyparsing>=2.3.1 in /usr/local/lib/python3.10/dist-packages (from matplotlib) (3.1.4)\n",
            "Requirement already satisfied: scipy>=1.5.0 in /usr/local/lib/python3.10/dist-packages (from scikit-learn) (1.13.1)\n",
            "Requirement already satisfied: joblib>=1.1.1 in /usr/local/lib/python3.10/dist-packages (from scikit-learn) (1.4.2)\n",
            "Requirement already satisfied: threadpoolctl>=2.0.0 in /usr/local/lib/python3.10/dist-packages (from scikit-learn) (3.5.0)\n",
            "Requirement already satisfied: six>=1.5 in /usr/local/lib/python3.10/dist-packages (from python-dateutil>=2.8.2->pandas) (1.16.0)\n"
          ]
        }
      ]
    },
    {
      "cell_type": "code",
      "source": [
        "#Import necessary libraries\n",
        "import re\n",
        "import pandas as pd\n",
        "import numpy as np\n",
        "import seaborn as sns\n",
        "import matplotlib.pyplot as plt\n",
        "from sklearn.feature_extraction.text import CountVectorizer\n",
        "from sklearn.model_selection import train_test_split\n",
        "from sklearn.naive_bayes import MultinomialNB\n",
        "from sklearn.metrics import classification_report, confusion_matrix"
      ],
      "metadata": {
        "id": "exzY0kIpE6go"
      },
      "execution_count": null,
      "outputs": []
    },
    {
      "cell_type": "code",
      "source": [
        "#Load the CSV dataset file\n",
        "data_path='https://raw.githubusercontent.com/NafisaKhan/Coding-Challenges/NafisaKhan-solution/nlp-specialist/challenge-2/bangla_product_reviews.csv'\n",
        "review_df=pd.read_csv(data_path)\n",
        "\n",
        "#Print the first and last 5 rows from the dataset\n",
        "print('First and last five reviews from dataset:')\n",
        "print(review_df.head())\n",
        "print(review_df.tail())"
      ],
      "metadata": {
        "colab": {
          "base_uri": "https://localhost:8080/"
        },
        "id": "JZ1A85XOFHjQ",
        "outputId": "a4710da7-6d5d-4a4b-f718-67045c545bc5"
      },
      "execution_count": null,
      "outputs": [
        {
          "output_type": "stream",
          "name": "stdout",
          "text": [
            "First and last five reviews from dataset:\n",
            "                               Review  Rating\n",
            "0              এই পণ্যটি সত্যিই ভালো!       2\n",
            "1              এই পণ্যটি সত্যিই ভালো!       3\n",
            "2  ডেলিভারি দ্রুত ছিল, পণ্যটি চমৎকার।       5\n",
            "3  ডেলিভারি দ্রুত ছিল, পণ্যটি চমৎকার।       5\n",
            "4                    এটি একদমই খারাপ।       2\n",
            "                             Review  Rating\n",
            "995          এই পণ্যটি সত্যিই ভালো!       4\n",
            "996            গুণগত মান বেশ খারাপ।       1\n",
            "997            গুণগত মান বেশ খারাপ।       4\n",
            "998  মূল্য অনুযায়ী পণ্যটি ঠিক আছে।       1\n",
            "999             সেবাটি অসাধারণ ছিল।       4\n"
          ]
        }
      ]
    },
    {
      "cell_type": "code",
      "source": [
        "#Analyzing the information of the dataset\n",
        "print(\"\\nThe shape of the data is (row, column):\" + str(review_df.shape))\n",
        "print(\"\\nThe information about the dataset:\")\n",
        "print(review_df.info())"
      ],
      "metadata": {
        "colab": {
          "base_uri": "https://localhost:8080/"
        },
        "id": "Z2tlz3VyFOr9",
        "outputId": "2a7fea95-8205-4115-8565-81ff85a9ca20"
      },
      "execution_count": null,
      "outputs": [
        {
          "output_type": "stream",
          "name": "stdout",
          "text": [
            "\n",
            "The shape of the data is (row, column):(1000, 2)\n",
            "\n",
            "The information about the dataset:\n",
            "<class 'pandas.core.frame.DataFrame'>\n",
            "RangeIndex: 1000 entries, 0 to 999\n",
            "Data columns (total 2 columns):\n",
            " #   Column  Non-Null Count  Dtype \n",
            "---  ------  --------------  ----- \n",
            " 0   Review  1000 non-null   object\n",
            " 1   Rating  1000 non-null   int64 \n",
            "dtypes: int64(1), object(1)\n",
            "memory usage: 15.8+ KB\n",
            "None\n"
          ]
        }
      ]
    },
    {
      "cell_type": "code",
      "source": [
        "#Checking the frequency of the sentiment types\n",
        "print('\\nThe frequency of the sentiment types:')\n",
        "print(review_df['Rating'].value_counts())"
      ],
      "metadata": {
        "colab": {
          "base_uri": "https://localhost:8080/"
        },
        "id": "94lIYhpOFSL0",
        "outputId": "386fdc66-22d9-4afe-ae75-3fc86506f4ec"
      },
      "execution_count": null,
      "outputs": [
        {
          "output_type": "stream",
          "name": "stdout",
          "text": [
            "\n",
            "The frequency of the sentiment types:\n",
            "Rating\n",
            "2    213\n",
            "3    205\n",
            "1    199\n",
            "4    197\n",
            "5    186\n",
            "Name: count, dtype: int64\n"
          ]
        }
      ]
    },
    {
      "cell_type": "code",
      "source": [
        "# Customized list of stopwords from the given dataset\n",
        "bangla_stopwords=[\"এই\", \"আমি\", \"এটি\", \"ছিল\", \"আমার\", \"আবার\", \"ও\", \"কিনবো\", \"ঠিক\", \"যখন\", \"আমাদের\", \"অনুযায়ী\",\n",
        "                  \"তুমি\", \"সে\", \"একদমই\", \"অনুযায়ী\", \"উপর\", \"নিচে\", \"পাশে\", \"আগে\", \"পরে\", \"মধ্যে\", \"হয়\", \"যা\",\n",
        "                  \"কিন্তু\", \"তবে\", \"অথবা\", \"তাই\", \"কেন\", \"কারণ\", \"কখন\", \"কিভাবে\", \"যদি\", \"তাহলে\", \"তাদের\", \"হলো\",\n",
        "                  \"করতে\", \"হবে\", \"হয়নি\", \"যায়\", \"পায়\", \"করবো\", \"হয়েছে\", \"করছি\", \"করেছেন\", \"ছিলেন\", \"থেকে\",\n",
        "                  \"যাদের\", \"কিছু\", \"একটি\", \"হতে\", \"জন্য\", \"থেকে\", \"সব\", \"কোনো\", \"এর\", \"তাদের\", \"মতো\", \"যার\",\n",
        "                  \"করছেন\", \"হয়তো\", \"তাহলে\", \"যত\", \"তার\", \"ছিলো\", \"সবাই\", \"কোন\", \"ইত্যাদি\", \"নতুন\", \"কাছে\",\n",
        "                  \"আরো\", \"কিছু\", \"অনেক\", \"সঙ্গে\", \"হলো\", \"জানাতে\", \"নিয়ে\", \"দেওয়া\", \"এমন\", \"সেটি\", \"এরপর\"]\n",
        "print(bangla_stopwords)"
      ],
      "metadata": {
        "colab": {
          "base_uri": "https://localhost:8080/"
        },
        "id": "vg2x117VFXcI",
        "outputId": "bbb81aa1-8d49-4016-ca5a-ffe1062d7a31"
      },
      "execution_count": null,
      "outputs": [
        {
          "output_type": "stream",
          "name": "stdout",
          "text": [
            "['এই', 'আমি', 'এটি', 'ছিল', 'আমার', 'আবার', 'ও', 'কিনবো', 'ঠিক', 'যখন', 'আমাদের', 'অনুযায়ী', 'তুমি', 'সে', 'একদমই', 'অনুযায়ী', 'উপর', 'নিচে', 'পাশে', 'আগে', 'পরে', 'মধ্যে', 'হয়', 'যা', 'কিন্তু', 'তবে', 'অথবা', 'তাই', 'কেন', 'কারণ', 'কখন', 'কিভাবে', 'যদি', 'তাহলে', 'তাদের', 'হলো', 'করতে', 'হবে', 'হয়নি', 'যায়', 'পায়', 'করবো', 'হয়েছে', 'করছি', 'করেছেন', 'ছিলেন', 'থেকে', 'যাদের', 'কিছু', 'একটি', 'হতে', 'জন্য', 'থেকে', 'সব', 'কোনো', 'এর', 'তাদের', 'মতো', 'যার', 'করছেন', 'হয়তো', 'তাহলে', 'যত', 'তার', 'ছিলো', 'সবাই', 'কোন', 'ইত্যাদি', 'নতুন', 'কাছে', 'আরো', 'কিছু', 'অনেক', 'সঙ্গে', 'হলো', 'জানাতে', 'নিয়ে', 'দেওয়া', 'এমন', 'সেটি', 'এরপর']\n"
          ]
        }
      ]
    },
    {
      "cell_type": "code",
      "source": [
        "#Data Preprocessing\n",
        "def text_preprocessing(text):\n",
        "    #Bangla numbers removal\n",
        "    text=re.sub(r'[\\u09E6-\\u09EF]', '', text)\n",
        "    #Bangla punctuations removal\n",
        "    text=re.sub(r'[।:?,!]', '', text)\n",
        "    #Special characters removal\n",
        "    text=re.sub(r'[^\\u0980-\\u09FF0-9\\s]', '', text)\n",
        "    #Extra Bangla unicode characters removal\n",
        "    text=re.sub(r'[^\\u0980-\\u09FF\\s]', '', text)\n",
        "\n",
        "    #Tokenization\n",
        "    words=text.split()\n",
        "\n",
        "    #Stopwords removal\n",
        "    cleaned_words=[word for word in words if word not in bangla_stopwords]\n",
        "\n",
        "    #Joining cleaned words\n",
        "    cleaned_text=' '.join(cleaned_words)\n",
        "    return cleaned_text\n",
        "\n",
        "#preprocess all reviews and print first 5\n",
        "review_df['Cleaned_Review']=[text_preprocessing(review) for review in review_df['Review']]\n",
        "print(review_df[['Review', 'Cleaned_Review']].head())"
      ],
      "metadata": {
        "colab": {
          "base_uri": "https://localhost:8080/"
        },
        "id": "I5QKkBcYGDE8",
        "outputId": "db0f9920-ac4e-4d4f-fbb3-a8ebbe45480b"
      },
      "execution_count": null,
      "outputs": [
        {
          "output_type": "stream",
          "name": "stdout",
          "text": [
            "                               Review                Cleaned_Review\n",
            "0              এই পণ্যটি সত্যিই ভালো!            পণ্যটি সত্যিই ভালো\n",
            "1              এই পণ্যটি সত্যিই ভালো!            পণ্যটি সত্যিই ভালো\n",
            "2  ডেলিভারি দ্রুত ছিল, পণ্যটি চমৎকার।  ডেলিভারি দ্রুত পণ্যটি চমৎকার\n",
            "3  ডেলিভারি দ্রুত ছিল, পণ্যটি চমৎকার।  ডেলিভারি দ্রুত পণ্যটি চমৎকার\n",
            "4                    এটি একদমই খারাপ।                         খারাপ\n"
          ]
        }
      ]
    },
    {
      "cell_type": "code",
      "source": [
        "#Ratings categorization into 3 types of sentiments\n",
        "def categorize_rating(rating):\n",
        "    if rating>3:\n",
        "        sentiment_type='positive'\n",
        "    elif rating<3:\n",
        "        sentiment_type='negative'\n",
        "    elif rating == 3:\n",
        "        sentiment_type='neutral'\n",
        "    return sentiment_type\n",
        "\n",
        "review_df['Sentiment']=review_df['Rating'].apply(categorize_rating)\n",
        "print(review_df[['Sentiment', 'Review', 'Cleaned_Review']].head())"
      ],
      "metadata": {
        "colab": {
          "base_uri": "https://localhost:8080/"
        },
        "id": "1N--9sdBHTzZ",
        "outputId": "fac5b112-4cc2-4ba2-ab7d-8b31e3921a6a"
      },
      "execution_count": null,
      "outputs": [
        {
          "output_type": "stream",
          "name": "stdout",
          "text": [
            "  Sentiment                              Review                Cleaned_Review\n",
            "0  negative              এই পণ্যটি সত্যিই ভালো!            পণ্যটি সত্যিই ভালো\n",
            "1   neutral              এই পণ্যটি সত্যিই ভালো!            পণ্যটি সত্যিই ভালো\n",
            "2  positive  ডেলিভারি দ্রুত ছিল, পণ্যটি চমৎকার।  ডেলিভারি দ্রুত পণ্যটি চমৎকার\n",
            "3  positive  ডেলিভারি দ্রুত ছিল, পণ্যটি চমৎকার।  ডেলিভারি দ্রুত পণ্যটি চমৎকার\n",
            "4  negative                    এটি একদমই খারাপ।                         খারাপ\n"
          ]
        }
      ]
    },
    {
      "cell_type": "code",
      "source": [
        "#Split data into training and testing sets\n",
        "X=review_df['Cleaned_Review']\n",
        "y=review_df['Sentiment']\n",
        "X_train, X_test, y_train, y_test=train_test_split(X, y, test_size=0.2, random_state=50)"
      ],
      "metadata": {
        "id": "opTSrF1YIHpW"
      },
      "execution_count": null,
      "outputs": []
    },
    {
      "cell_type": "code",
      "source": [
        "#Feature Extraction using  BoW(Bag of Words) and feature selection using n-gram\n",
        "vectorizer=CountVectorizer(max_features=2000, ngram_range=(1,3), stop_words=bangla_stopwords)\n",
        "X_train_bow=vectorizer.fit_transform(X_train)\n",
        "X_test_bow=vectorizer.transform(X_test)"
      ],
      "metadata": {
        "colab": {
          "base_uri": "https://localhost:8080/"
        },
        "id": "qJt6mJnwJyS8",
        "outputId": "da024600-a306-4dea-cec0-336e7a74f57e"
      },
      "execution_count": null,
      "outputs": [
        {
          "output_type": "stream",
          "name": "stderr",
          "text": [
            "/usr/local/lib/python3.10/dist-packages/sklearn/feature_extraction/text.py:408: UserWarning: Your stop_words may be inconsistent with your preprocessing. Tokenizing the stop words generated tokens ['অথব', 'অন', 'আগ', 'আব', 'আম', 'আর', 'ইত', 'একট', 'এট', 'ওয়', 'কর', 'করছ', 'করত', 'করব', 'জন', 'তব', 'নত', 'নব', 'পর', 'মত', 'মধ', 'যদ', 'রণ', 'সঙ', 'হত', 'হব', 'হয', 'হল', 'হয়', 'হয়ত', 'হয়ন'] not in stop_words.\n",
            "  warnings.warn(\n"
          ]
        }
      ]
    },
    {
      "cell_type": "code",
      "source": [
        "#Train a Naive Bayes(NB) model\n",
        "model=MultinomialNB()\n",
        "model.fit(X_train_bow, y_train)"
      ],
      "metadata": {
        "colab": {
          "base_uri": "https://localhost:8080/",
          "height": 74
        },
        "id": "Yvoa6pSxJ2Kz",
        "outputId": "bcde8adc-c67e-4abf-c050-7a53ee45465d"
      },
      "execution_count": null,
      "outputs": [
        {
          "output_type": "execute_result",
          "data": {
            "text/plain": [
              "MultinomialNB()"
            ],
            "text/html": [
              "<style>#sk-container-id-6 {color: black;}#sk-container-id-6 pre{padding: 0;}#sk-container-id-6 div.sk-toggleable {background-color: white;}#sk-container-id-6 label.sk-toggleable__label {cursor: pointer;display: block;width: 100%;margin-bottom: 0;padding: 0.3em;box-sizing: border-box;text-align: center;}#sk-container-id-6 label.sk-toggleable__label-arrow:before {content: \"▸\";float: left;margin-right: 0.25em;color: #696969;}#sk-container-id-6 label.sk-toggleable__label-arrow:hover:before {color: black;}#sk-container-id-6 div.sk-estimator:hover label.sk-toggleable__label-arrow:before {color: black;}#sk-container-id-6 div.sk-toggleable__content {max-height: 0;max-width: 0;overflow: hidden;text-align: left;background-color: #f0f8ff;}#sk-container-id-6 div.sk-toggleable__content pre {margin: 0.2em;color: black;border-radius: 0.25em;background-color: #f0f8ff;}#sk-container-id-6 input.sk-toggleable__control:checked~div.sk-toggleable__content {max-height: 200px;max-width: 100%;overflow: auto;}#sk-container-id-6 input.sk-toggleable__control:checked~label.sk-toggleable__label-arrow:before {content: \"▾\";}#sk-container-id-6 div.sk-estimator input.sk-toggleable__control:checked~label.sk-toggleable__label {background-color: #d4ebff;}#sk-container-id-6 div.sk-label input.sk-toggleable__control:checked~label.sk-toggleable__label {background-color: #d4ebff;}#sk-container-id-6 input.sk-hidden--visually {border: 0;clip: rect(1px 1px 1px 1px);clip: rect(1px, 1px, 1px, 1px);height: 1px;margin: -1px;overflow: hidden;padding: 0;position: absolute;width: 1px;}#sk-container-id-6 div.sk-estimator {font-family: monospace;background-color: #f0f8ff;border: 1px dotted black;border-radius: 0.25em;box-sizing: border-box;margin-bottom: 0.5em;}#sk-container-id-6 div.sk-estimator:hover {background-color: #d4ebff;}#sk-container-id-6 div.sk-parallel-item::after {content: \"\";width: 100%;border-bottom: 1px solid gray;flex-grow: 1;}#sk-container-id-6 div.sk-label:hover label.sk-toggleable__label {background-color: #d4ebff;}#sk-container-id-6 div.sk-serial::before {content: \"\";position: absolute;border-left: 1px solid gray;box-sizing: border-box;top: 0;bottom: 0;left: 50%;z-index: 0;}#sk-container-id-6 div.sk-serial {display: flex;flex-direction: column;align-items: center;background-color: white;padding-right: 0.2em;padding-left: 0.2em;position: relative;}#sk-container-id-6 div.sk-item {position: relative;z-index: 1;}#sk-container-id-6 div.sk-parallel {display: flex;align-items: stretch;justify-content: center;background-color: white;position: relative;}#sk-container-id-6 div.sk-item::before, #sk-container-id-6 div.sk-parallel-item::before {content: \"\";position: absolute;border-left: 1px solid gray;box-sizing: border-box;top: 0;bottom: 0;left: 50%;z-index: -1;}#sk-container-id-6 div.sk-parallel-item {display: flex;flex-direction: column;z-index: 1;position: relative;background-color: white;}#sk-container-id-6 div.sk-parallel-item:first-child::after {align-self: flex-end;width: 50%;}#sk-container-id-6 div.sk-parallel-item:last-child::after {align-self: flex-start;width: 50%;}#sk-container-id-6 div.sk-parallel-item:only-child::after {width: 0;}#sk-container-id-6 div.sk-dashed-wrapped {border: 1px dashed gray;margin: 0 0.4em 0.5em 0.4em;box-sizing: border-box;padding-bottom: 0.4em;background-color: white;}#sk-container-id-6 div.sk-label label {font-family: monospace;font-weight: bold;display: inline-block;line-height: 1.2em;}#sk-container-id-6 div.sk-label-container {text-align: center;}#sk-container-id-6 div.sk-container {/* jupyter's `normalize.less` sets `[hidden] { display: none; }` but bootstrap.min.css set `[hidden] { display: none !important; }` so we also need the `!important` here to be able to override the default hidden behavior on the sphinx rendered scikit-learn.org. See: https://github.com/scikit-learn/scikit-learn/issues/21755 */display: inline-block !important;position: relative;}#sk-container-id-6 div.sk-text-repr-fallback {display: none;}</style><div id=\"sk-container-id-6\" class=\"sk-top-container\"><div class=\"sk-text-repr-fallback\"><pre>MultinomialNB()</pre><b>In a Jupyter environment, please rerun this cell to show the HTML representation or trust the notebook. <br />On GitHub, the HTML representation is unable to render, please try loading this page with nbviewer.org.</b></div><div class=\"sk-container\" hidden><div class=\"sk-item\"><div class=\"sk-estimator sk-toggleable\"><input class=\"sk-toggleable__control sk-hidden--visually\" id=\"sk-estimator-id-6\" type=\"checkbox\" checked><label for=\"sk-estimator-id-6\" class=\"sk-toggleable__label sk-toggleable__label-arrow\">MultinomialNB</label><div class=\"sk-toggleable__content\"><pre>MultinomialNB()</pre></div></div></div></div></div>"
            ]
          },
          "metadata": {},
          "execution_count": 84
        }
      ]
    },
    {
      "cell_type": "code",
      "source": [
        "#NB+BoW Model Evalution\n",
        "y_pred=model.predict(X_test_bow)\n",
        "print(\"\\nClassification Report:\")\n",
        "print(classification_report(y_test,y_pred))\n",
        "cm=confusion_matrix(y_test, y_pred, labels=['positive','negative','neutral'])\n",
        "plt.figure(figsize=(5,3))\n",
        "sns.heatmap(cm, annot=True, fmt='d', cmap='Reds', xticklabels=['positive','negative','neutral'], yticklabels=['positive','negative','neutral'])\n",
        "plt.xlabel('Predicted')\n",
        "plt.ylabel('True')\n",
        "plt.title('Confusion Matrix')\n",
        "plt.show()"
      ],
      "metadata": {
        "colab": {
          "base_uri": "https://localhost:8080/",
          "height": 551
        },
        "id": "YX-T-KeQJ_T6",
        "outputId": "6f93a8d9-9346-4ec8-dc14-3b37225be89d"
      },
      "execution_count": null,
      "outputs": [
        {
          "output_type": "stream",
          "name": "stdout",
          "text": [
            "\n",
            "Classification Report:\n",
            "              precision    recall  f1-score   support\n",
            "\n",
            "    negative       0.46      0.67      0.54        85\n",
            "     neutral       0.19      0.09      0.12        34\n",
            "    positive       0.44      0.32      0.37        81\n",
            "\n",
            "    accuracy                           0.43       200\n",
            "   macro avg       0.36      0.36      0.34       200\n",
            "weighted avg       0.40      0.43      0.40       200\n",
            "\n"
          ]
        },
        {
          "output_type": "display_data",
          "data": {
            "text/plain": [
              "<Figure size 500x300 with 2 Axes>"
            ],
            "image/png": "[encoded data removed]"
          },
          "metadata": {}
        }
      ]
    },
    {
      "cell_type": "code",
      "execution_count": null,
      "metadata": {
        "id": "SnZZmeAT9jI3",
        "colab": {
          "base_uri": "https://localhost:8080/"
        },
        "outputId": "60936777-17ce-4eb6-f1a2-bdf11664627b"
      },
      "outputs": [
        {
          "output_type": "stream",
          "name": "stdout",
          "text": [
            "\n",
            "Predictions and confidences for sampled reviews:\n",
            "Review: এই পণ্যটি সত্যিই ভালো!\n",
            "Predicted Sentiment: negative\n",
            "Confidence: 0.3924717339503777\n",
            "\n",
            "Review: সেবাটি অসাধারণ ছিল।\n",
            "Predicted Sentiment: positive\n",
            "Confidence: 0.37565282364015373\n",
            "\n",
            "Review: ডেলিভারি দ্রুত ছিল, পণ্যটি চমৎকার।\n",
            "Predicted Sentiment: negative\n",
            "Confidence: 0.5202730098512387\n",
            "\n",
            "Review: সেবাটি অসাধারণ ছিল।\n",
            "Predicted Sentiment: positive\n",
            "Confidence: 0.37565282364015373\n",
            "\n",
            "Review: মূল্য অনুযায়ী পণ্যটি ঠিক আছে।\n",
            "Predicted Sentiment: negative\n",
            "Confidence: 0.7344419688894462\n",
            "\n",
            "Review: ডেলিভারি দ্রুত ছিল, পণ্যটি চমৎকার।\n",
            "Predicted Sentiment: negative\n",
            "Confidence: 0.5202730098512387\n",
            "\n"
          ]
        }
      ],
      "source": [
        "#Testing results on random 6 reviews from dataset\n",
        "def predict_sentiment(model, vectorizer, review_df):\n",
        "    sample_reviews=review_df['Review'].sample(n=6).tolist()\n",
        "    sample_cleaned=[text_preprocessing(review) for review in sample_reviews]\n",
        "    sample_bow=vectorizer.transform(sample_cleaned)\n",
        "\n",
        "    #sentiment prediction\n",
        "    sample_predictions=model.predict(sample_bow)\n",
        "    sample_confidences=np.max(model.predict_proba(sample_bow), axis=1)\n",
        "\n",
        "    print(\"\\nPredictions and confidences for sampled reviews:\")\n",
        "    for i, review in enumerate(sample_reviews):\n",
        "        print(f\"Review: {review}\")\n",
        "        print(f\"Predicted Sentiment: {sample_predictions[i]}\")\n",
        "        print(f\"Confidence: {sample_confidences[i]}\\n\")\n",
        "\n",
        "predict_sentiment(model,vectorizer,review_df)\n"
      ]
    }
  ]
}